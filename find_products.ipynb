{
 "cells": [
  {
   "cell_type": "code",
   "execution_count": 1,
   "metadata": {},
   "outputs": [],
   "source": [
    "import openai\n",
    "import json\n",
    "from tqdm import tqdm\n",
    "\n",
    "\n",
    "openai.api_key = \"\"\n",
    "\n",
    "\n",
    "def get_completion(prompt, model=\"gpt-3.5-turbo\"):\n",
    "    messages = [{\"role\": \"user\", \"content\": prompt}]\n",
    "    response = openai.ChatCompletion.create(\n",
    "        model=model,\n",
    "        messages=messages,\n",
    "        temperature=0, # this is the degree of randomness of the model's output\n",
    "    )\n",
    "    return response.choices[0].message[\"content\"]\n",
    "\n",
    "\n",
    "def get_prompt(message: str):\n",
    "    return f\"\"\"\n",
    "    Identify the following item from the telegram chat message, written in Russian: \n",
    "    - What product is the user interested in\n",
    "    \n",
    "    The message is delimited with triple backticks. \\\n",
    "    Format your response as a JSON object with \\\n",
    "    \"products\" as the keys. \n",
    "    If the information isn't present, use \"\" \\\n",
    "    as the value.\n",
    "  \n",
    "    Message: '''{message}'''\n",
    "    \"\"\""
   ]
  },
  {
   "cell_type": "code",
   "execution_count": 2,
   "metadata": {},
   "outputs": [],
   "source": [
    "with open('channel_messages.json', 'r', encoding=\"utf8\") as f:\n",
    "    messages = json.load(f)"
   ]
  },
  {
   "cell_type": "code",
   "execution_count": 7,
   "metadata": {},
   "outputs": [
    {
     "name": "stderr",
     "output_type": "stream",
     "text": [
      "100%|██████████| 1/1 [00:00<00:00,  1.38it/s]\n"
     ]
    }
   ],
   "source": [
    "products = []\n",
    "for message in tqdm(messages):\n",
    "    prompt = get_prompt(message)\n",
    "    gpt_answer = json.loads(get_completion(prompt))\n",
    "    if type(gpt_answer.get('products', [])) == str:\n",
    "        if gpt_answer.get('products', []).strip() == '':\n",
    "              continue\n",
    "        else:\n",
    "            gpt_answer['products'] = [gpt_answer.get('products')]\n",
    "    \n",
    "    if len(gpt_answer.get('products', [])) < 1:\n",
    "        continue\n",
    "    else:\n",
    "        products.append({\n",
    "            'date': message.get('date', ''),\n",
    "            'user_id': message.get('user_id', ''),\n",
    "            \"message_id\": message.get('message_id', ''),\n",
    "            'products': gpt_answer.get('products', ''),\n",
    "        })\n",
    "with open('product_requests.json', 'w', encoding='utf8') as outfile:\n",
    "\t\tjson.dump(products, outfile, ensure_ascii=False)"
   ]
  },
  {
   "cell_type": "code",
   "execution_count": 6,
   "metadata": {},
   "outputs": [],
   "source": [
    "#message = \"\"\"Ребята, не знаете где купить лопату для выпечки пиццы и соевое молоко Alpro?\"\"\"\n",
    "#message = \"\"\"Всем привет! Подскажите по овсяному молоку, пожалуйста 🙏🏻 покупала Nемолоко в фикс прайсе пол года, а теперь его там нет😢 \n",
    "#\n",
    "#Можно ли его где-то в Тбилиси купить?\"\"\"\n",
    "#message = \"\"\"Котики, а есть где в Тбилиси купить пищевую глину? \n",
    "#Не мне, подруга спрашивает\"\"\"\n",
    "#message =\"\"\"Привет!\n",
    "#\n",
    "#Пока что меня зовут Бабайка. Сейчас мне примерно 1,5месяца. Мама-кошка бросила меня, и я провела несколько страшных дней и ночей в водостоке. Я много кричала и плакала, засыпала от бессилия, но потом все повторялось вновь.\n",
    "#Сейчас меня забрали к себе Люди. Они научили меня есть из мисочки и ходить по делам в лоточек. А еще они научили меня, что Человек и Кошка могут подарить друг другу много тепла. Теперь я хорошо кушаю паштеты и паучи для котят, сладко сплю и очень много играю. Я люблю находиться рядом с людьми, но мне не скучно и одной, ведь я любознательная и самостоятельная.\n",
    "#Я очень хочу найти любящего Человека и быть с ним одной семьей. Я подарю много ласки и любви взамен на доброту. \n",
    "#\n",
    "#Я нахожусь в Тбилиси. И смогу приехать к вам по городу, если вы разглядели во мне свое будущее любимое существо. \n",
    "#Вы можете спросить про меня по телефону: +995 558 514 022 \n",
    "#Или написать в личные сообщения\"\"\"\n",
    "#message = \"\"\"Всем привет, кто знает где сейчас купить светлый мисо, в сакуре нет\"\"\"\n",
    "message = \"\"\"Добрый вечер \n",
    "\n",
    "Завтра будет официальный ответ от магазина \n",
    "\n",
    "Команда ветеринаров на нашей стороне \n",
    "\n",
    "Будут комментарии по всем пунктам поста\"\"\"\n",
    "prompt = get_prompt(message)"
   ]
  },
  {
   "cell_type": "code",
   "execution_count": 7,
   "metadata": {},
   "outputs": [
    {
     "data": {
      "text/plain": [
       "'{\"products\": \"\"}'"
      ]
     },
     "execution_count": 7,
     "metadata": {},
     "output_type": "execute_result"
    }
   ],
   "source": [
    "get_completion(prompt)"
   ]
  }
 ],
 "metadata": {
  "kernelspec": {
   "display_name": ".venv",
   "language": "python",
   "name": "python3"
  },
  "language_info": {
   "codemirror_mode": {
    "name": "ipython",
    "version": 3
   },
   "file_extension": ".py",
   "mimetype": "text/x-python",
   "name": "python",
   "nbconvert_exporter": "python",
   "pygments_lexer": "ipython3",
   "version": "3.10.11"
  },
  "orig_nbformat": 4
 },
 "nbformat": 4,
 "nbformat_minor": 2
}
